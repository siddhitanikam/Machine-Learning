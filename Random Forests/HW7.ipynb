{
 "cells": [
  {
   "cell_type": "code",
   "execution_count": 2,
   "metadata": {},
   "outputs": [],
   "source": [
    "import pandas as pd\n",
    "import numpy as np\n",
    "from sklearn.preprocessing import StandardScaler, MinMaxScaler\n",
    "from sklearn.model_selection import train_test_split\n",
    "from sklearn.ensemble import RandomForestClassifier\n",
    "from sklearn.metrics import accuracy_score"
   ]
  },
  {
   "cell_type": "markdown",
   "metadata": {},
   "source": [
    "Part 1"
   ]
  },
  {
   "cell_type": "code",
   "execution_count": 3,
   "metadata": {},
   "outputs": [],
   "source": [
    "# Load data from a CSV file or any other data source\n",
    "data = pd.read_csv(\"41-50.csv\")"
   ]
  },
  {
   "cell_type": "code",
   "execution_count": 4,
   "metadata": {},
   "outputs": [],
   "source": [
    "# Load data here and calculate the citation ratio and normalize the data\n",
    "\n",
    "# Calculate the citation ratio (2022/2021)\n",
    "data['citation_ratio'] = data['cit_2022'] / data['cit_2021']\n",
    "\n",
    "# Select the columns for citation data from 2017 to 2022\n",
    "citation_columns = ['cit_2017', 'cit_2018', 'cit_2019', 'cit_2020', 'cit_2021', 'cit_2022']\n",
    "\n",
    "# Normalize the citation data using Min-Max scaling\n",
    "scaler = MinMaxScaler()\n",
    "data[citation_columns] = scaler.fit_transform(data[citation_columns])\n",
    "\n",
    "# Convert the labels (categories) to numerical values\n",
    "data['category'] = data['citation_ratio'].apply(lambda ratio: 0 if ratio < 1.05 else (1 if ratio <= 1.15 else 2))\n",
    "data['category'] = data['category'].astype('category')\n",
    "\n",
    "# Split the data\n",
    "X = data[citation_columns].values\n",
    "y = data['category']  \n",
    "\n",
    "# Split the data into training and testing sets\n",
    "X_train, X_test, y_train, y_test = train_test_split(X, y, test_size=0.2, random_state=42)\n",
    "\n",
    "# Now, 'data' contains the normalized citation data and their corresponding categories\n"
   ]
  },
  {
   "cell_type": "code",
   "execution_count": 5,
   "metadata": {},
   "outputs": [
    {
     "name": "stdout",
     "output_type": "stream",
     "text": [
      "Accuracy: 75.00%\n"
     ]
    }
   ],
   "source": [
    "# Create a Random Forest classifier\n",
    "rf_classifier = RandomForestClassifier(n_estimators=100, random_state=42)\n",
    "\n",
    "# Train the classifier on the training data\n",
    "rf_classifier.fit(X_train, y_train)\n",
    "\n",
    "# Make predictions on the test data\n",
    "y_pred = rf_classifier.predict(X_test)\n",
    "\n",
    "# Evaluate the accuracy of the model\n",
    "accuracy = accuracy_score(y_test, y_pred)\n",
    "print(f\"Accuracy: {accuracy * 100:.2f}%\")"
   ]
  },
  {
   "cell_type": "markdown",
   "metadata": {},
   "source": [
    "Part 2"
   ]
  },
  {
   "cell_type": "code",
   "execution_count": 6,
   "metadata": {},
   "outputs": [],
   "source": [
    "# Load data from a CSV file or any other data source\n",
    "data_new = pd.read_csv(\"41-50.csv\")"
   ]
  },
  {
   "cell_type": "code",
   "execution_count": 7,
   "metadata": {},
   "outputs": [
    {
     "name": "stderr",
     "output_type": "stream",
     "text": [
      "C:\\Users\\siddh\\AppData\\Local\\Temp\\ipykernel_28596\\1229381028.py:23: SettingWithCopyWarning: \n",
      "A value is trying to be set on a copy of a slice from a DataFrame\n",
      "\n",
      "See the caveats in the documentation: https://pandas.pydata.org/pandas-docs/stable/user_guide/indexing.html#returning-a-view-versus-a-copy\n",
      "  X_new_features.replace([np.inf, -np.inf], np.nan, inplace=True)\n",
      "C:\\Users\\siddh\\AppData\\Local\\Temp\\ipykernel_28596\\1229381028.py:24: SettingWithCopyWarning: \n",
      "A value is trying to be set on a copy of a slice from a DataFrame\n",
      "\n",
      "See the caveats in the documentation: https://pandas.pydata.org/pandas-docs/stable/user_guide/indexing.html#returning-a-view-versus-a-copy\n",
      "  X_new_features.fillna(0, inplace=True)  # Replace NaN with 0\n"
     ]
    }
   ],
   "source": [
    "# Calculate new features\n",
    "for year in range(2017, 2022):\n",
    "    data_new[f'citation_change_{year}'] = (data_new[f'cit_{year+1}'] - data_new[f'cit_{year}']) / data_new[f'cit_{year}']\n",
    "\n",
    "# Calculate the citation ratio (2022/2021)\n",
    "data_new['citation_ratio'] = data_new['cit_2022'] / data_new['cit_2021']\n",
    "\n",
    "# Convert the labels (categories) to numerical values\n",
    "data['category'] = data['citation_ratio'].apply(lambda ratio: 0 if ratio < 1.05 else (1 if ratio <= 1.15 else 2))\n",
    "data['category'] = data['category'].astype('category')\n",
    "\n",
    "# Separate features (X) and target variable (y)\n",
    "X_new = data_new.drop(['univ_rank', 'first_initial', 'last_initial'], axis=1)\n",
    "\n",
    "# Drop the columns related to raw citation numbers\n",
    "X_new = X_new.drop([f'cit_{year}' for year in range(2017, 2022)], axis=1)\n",
    "\n",
    "# Select only the new features\n",
    "new_features = [f'citation_change_{year}' for year in range(2017, 2022)]\n",
    "X_new_features = X_new[new_features]\n",
    "\n",
    "# Handle division by zero or very small values\n",
    "X_new_features.replace([np.inf, -np.inf], np.nan, inplace=True)\n",
    "X_new_features.fillna(0, inplace=True)  # Replace NaN with 0\n",
    "\n",
    "y_new = data['category']\n",
    "\n",
    "\n",
    "# Split the data into training and testing sets\n",
    "X_train_new, X_test_new, y_train_new, y_test_new = train_test_split(X_new_features, y_new, test_size=0.2, random_state=42)\n",
    "\n"
   ]
  },
  {
   "cell_type": "code",
   "execution_count": 9,
   "metadata": {},
   "outputs": [
    {
     "name": "stdout",
     "output_type": "stream",
     "text": [
      "Accuracy: 100.00%\n"
     ]
    }
   ],
   "source": [
    "# Create a Random Forest classifier\n",
    "rf_classifier = RandomForestClassifier(n_estimators=100, random_state=42)\n",
    "\n",
    "# Train the classifier on the training data\n",
    "rf_classifier.fit(X_train_new, y_train_new)\n",
    "\n",
    "# Make predictions on the test data\n",
    "y_pred_new = rf_classifier.predict(X_test_new)\n",
    "\n",
    "# Evaluate the accuracy of the model\n",
    "accuracy = accuracy_score(y_test_new, y_pred_new)\n",
    "print(f\"Accuracy: {accuracy * 100:.2f}%\")"
   ]
  }
 ],
 "metadata": {
  "kernelspec": {
   "display_name": "Python 3",
   "language": "python",
   "name": "python3"
  },
  "language_info": {
   "codemirror_mode": {
    "name": "ipython",
    "version": 3
   },
   "file_extension": ".py",
   "mimetype": "text/x-python",
   "name": "python",
   "nbconvert_exporter": "python",
   "pygments_lexer": "ipython3",
   "version": "3.11.3"
  }
 },
 "nbformat": 4,
 "nbformat_minor": 2
}
