{
 "cells": [
  {
   "cell_type": "code",
   "execution_count": 6,
   "metadata": {},
   "outputs": [],
   "source": [
    "import pandas as pd\n",
    "from sklearn.model_selection import train_test_split\n",
    "from sklearn.preprocessing import MinMaxScaler\n",
    "from sklearn.ensemble import AdaBoostClassifier\n",
    "from sklearn.metrics import accuracy_score\n"
   ]
  },
  {
   "cell_type": "code",
   "execution_count": 7,
   "metadata": {},
   "outputs": [],
   "source": [
    "# Load data from a CSV file or any other data source\n",
    "data = pd.read_csv(\"41-50.csv\")"
   ]
  },
  {
   "cell_type": "code",
   "execution_count": 8,
   "metadata": {},
   "outputs": [],
   "source": [
    "# Load data here and calculate the citation ratio and normalize the data\n",
    "\n",
    "# Calculate the citation ratio (2022/2021)\n",
    "data['citation_ratio'] = data['cit_2022'] / data['cit_2021']\n",
    "\n",
    "# Select the columns for citation data from 2017 to 2022\n",
    "citation_columns = ['cit_2017', 'cit_2018', 'cit_2019', 'cit_2020', 'cit_2021', 'cit_2022']\n",
    "\n",
    "# Normalize the citation data using Min-Max scaling\n",
    "scaler = MinMaxScaler()\n",
    "data[citation_columns] = scaler.fit_transform(data[citation_columns])\n",
    "\n",
    "# Convert the labels (categories) to numerical values\n",
    "data['category'] = data['citation_ratio'].apply(lambda ratio: 0 if ratio < 1.05 else (1 if ratio <= 1.15 else 2))\n",
    "data['category'] = data['category'].astype('category')\n",
    "\n",
    "# Split the data\n",
    "X = data[citation_columns].values\n",
    "y = data['category']  \n",
    "\n",
    "# Split the data into training and testing sets\n",
    "X_train, X_test, y_train, y_test = train_test_split(X, y, test_size=0.2, random_state=42)\n",
    "\n",
    "# Now, 'data' contains the normalized citation data and their corresponding categories"
   ]
  },
  {
   "cell_type": "code",
   "execution_count": 10,
   "metadata": {},
   "outputs": [
    {
     "name": "stdout",
     "output_type": "stream",
     "text": [
      "Test Accuracy: 80.00%\n"
     ]
    },
    {
     "ename": "",
     "evalue": "",
     "output_type": "error",
     "traceback": [
      "\u001b[1;31mThe Kernel crashed while executing code in the the current cell or a previous cell. Please review the code in the cell(s) to identify a possible cause of the failure. Click <a href='https://aka.ms/vscodeJupyterKernelCrash'>here</a> for more info. View Jupyter <a href='command:jupyter.viewOutput'>log</a> for further details."
     ]
    }
   ],
   "source": [
    "\n",
    "# Initialize AdaBoost classifier\n",
    "adaboost_clf = AdaBoostClassifier(n_estimators=50, random_state=42)\n",
    "\n",
    "# Train the classifier\n",
    "adaboost_clf.fit(X_train, y_train)\n",
    "\n",
    "# Make predictions\n",
    "y_pred = adaboost_clf.predict(X_test)\n",
    "\n",
    "# Evaluate accuracy\n",
    "accuracy = accuracy_score(y_test, y_pred)\n",
    "print(f\"Test Accuracy: {accuracy * 100:.2f}%\")\n"
   ]
  }
 ],
 "metadata": {
  "kernelspec": {
   "display_name": "Python 3",
   "language": "python",
   "name": "python3"
  },
  "language_info": {
   "codemirror_mode": {
    "name": "ipython",
    "version": 3
   },
   "file_extension": ".py",
   "mimetype": "text/x-python",
   "name": "python",
   "nbconvert_exporter": "python",
   "pygments_lexer": "ipython3",
   "version": "3.11.3"
  }
 },
 "nbformat": 4,
 "nbformat_minor": 2
}
